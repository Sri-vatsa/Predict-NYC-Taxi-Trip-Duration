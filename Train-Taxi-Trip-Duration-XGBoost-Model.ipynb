{
  "nbformat": 4,
  "nbformat_minor": 0,
  "metadata": {
    "colab": {
      "name": "predict.ipynb",
      "version": "0.3.2",
      "provenance": [],
      "collapsed_sections": []
    },
    "kernelspec": {
      "name": "python3",
      "display_name": "Python 3"
    }
  },
  "cells": [
    {
      "metadata": {
        "id": "HlUMXNIADFU7",
        "colab_type": "code",
        "colab": {}
      },
      "cell_type": "code",
      "source": [
        "!pip install -U -q PyDrive\n",
        "from pydrive.auth import GoogleAuth\n",
        "from pydrive.drive import GoogleDrive\n",
        "from google.colab import auth\n",
        "from oauth2client.client import GoogleCredentials\n",
        "\n",
        "#other depedendencies\n",
        "import numpy as np\n",
        "import pandas as pd\n",
        "import matplotlib.pyplot as plt\n",
        "plt.rcParams['figure.figsize']=[16,10]\n",
        "\n",
        "import seaborn as sns\n",
        "from sklearn.model_selection import train_test_split\n",
        "import xgboost as xgb\n",
        "\n",
        "%matplotlib inline\n",
        "plt.rcParams['axes.unicode_minus'] = False"
      ],
      "execution_count": 0,
      "outputs": []
    },
    {
      "metadata": {
        "id": "kcNd4uN1xvP0",
        "colab_type": "code",
        "colab": {}
      },
      "cell_type": "code",
      "source": [
        "#authentication\n",
        "auth.authenticate_user()\n",
        "gauth = GoogleAuth()\n",
        "gauth.credentials = GoogleCredentials.get_application_default()\n",
        "drive = GoogleDrive(gauth)\n"
      ],
      "execution_count": 0,
      "outputs": []
    },
    {
      "metadata": {
        "id": "2p9UgMm-0L9U",
        "colab_type": "code",
        "colab": {}
      },
      "cell_type": "code",
      "source": [
        "#get training data & test data\n",
        "\n",
        "train_data = drive.CreateFile({'id':'1oCe012vMeB5CLQjJqLZZ-rqidJxT8oAC'})\n",
        "train_data.GetContentFile('train.csv')\n",
        "\n",
        "test_data = drive.CreateFile({'id':'1-gp-qCqBo__t1JQzl4SEC-NfzVR0ScTz'})\n",
        "test_data.GetContentFile('test.csv')\n",
        "\n",
        "df_train = pd.read_csv('train.csv')\n",
        "df_test = pd.read_csv('test.csv')\n"
      ],
      "execution_count": 0,
      "outputs": []
    },
    {
      "metadata": {
        "id": "GcaQ74iH4Kis",
        "colab_type": "code",
        "colab": {
          "base_uri": "https://localhost:8080/",
          "height": 297
        },
        "outputId": "cf0a81ec-3168-45e1-fa28-f2e56c43ec3e"
      },
      "cell_type": "code",
      "source": [
        "#data preprocessing\n",
        "\n",
        "## measure average trip duration\n",
        "\n",
        "df_train['log_trip_duration'] = np.log(df_train['trip_duration']).values + 1\n",
        "plt.hist(df_train['log_trip_duration'].values, bins=100)\n",
        "plt.xlabel('log(trip_duration)')\n",
        "plt.ylabel('number of training records')\n"
      ],
      "execution_count": 13,
      "outputs": [
        {
          "output_type": "execute_result",
          "data": {
            "text/plain": [
              "Text(0,0.5,'number of training records')"
            ]
          },
          "metadata": {
            "tags": []
          },
          "execution_count": 13
        },
        {
          "output_type": "display_data",
          "data": {
            "image/png": "[encoded data removed]",
            "text/plain": [
              "<matplotlib.figure.Figure at 0x7f2c079fc860>"
            ]
          },
          "metadata": {
            "tags": []
          }
        }
      ]
    },
    {
      "metadata": {
        "id": "Sdy0hz2s6NxN",
        "colab_type": "code",
        "colab": {
          "base_uri": "https://localhost:8080/",
          "height": 265
        },
        "outputId": "e5a6f168-1b4a-4537-c7d7-42c59586e15b"
      },
      "cell_type": "code",
      "source": [
        "N = 10000\n",
        "city_long_border = (-74, -74)\n",
        "city_lat_border = (40, 40)\n",
        "fig, ax = plt.subplots(ncols=2, sharex=True, sharey=True)\n",
        "ax[0].scatter(df_train['pickup_longitude'].values[:N], \n",
        "              df_train['pickup_latitude'].values[:N], \n",
        "              color='blue', s=1, label='train', alpha=0.1)\n",
        "\n",
        "ax[1].scatter(df_test['pickup_longitude'].values[:N], \n",
        "              df_test['pickup_latitude'].values[:N], \n",
        "              color='green', s=1, label='test', alpha=0.1)\n",
        "\n",
        "plt.show()"
      ],
      "execution_count": 15,
      "outputs": [
        {
          "output_type": "display_data",
          "data": {
            "image/png": "[encoded data removed]",
            "text/plain": [
              "<matplotlib.figure.Figure at 0x7f2bf00fac18>"
            ]
          },
          "metadata": {
            "tags": []
          }
        }
      ]
    },
    {
      "metadata": {
        "id": "2eW9BxJu9D8s",
        "colab_type": "code",
        "colab": {}
      },
      "cell_type": "code",
      "source": [
        "#training model\n",
        "feature_names = list(df_train.columns)\n",
        "y = np.log(df_train['trip_duration'].values + 1)\n",
        "Xtrain, Xtest, Ytrain, Ytest = train_test_split(df_train[feature_names].values, y, test_size=0.2, random_state=1987)\n",
        "\n",
        "#this was further modified to participate in the kaggle challenge\n",
        "xgb.XGBClassifier(max_depth=3, n_estimators=100, learning_rate=0.05).fit(Xtrain, Ytrain)\n"
      ],
      "execution_count": 0,
      "outputs": []
    }
  ]
}